{
 "cells": [
  {
   "cell_type": "markdown",
   "id": "aad3a4c5-71c5-49c6-85ec-80c2aadfe72a",
   "metadata": {},
   "source": [
    "# 방법1. 다중 선형회귀 모델"
   ]
  },
  {
   "cell_type": "markdown",
   "id": "580ff070-bde8-47fb-8a92-f7a261d753c5",
   "metadata": {},
   "source": [
    "### 면적- 체중"
   ]
  },
  {
   "cell_type": "code",
   "execution_count": 75,
   "id": "5c73f1fc-2f6f-47d5-8cd7-611c571ba83c",
   "metadata": {},
   "outputs": [
    {
     "name": "stdout",
     "output_type": "stream",
     "text": [
      "68.57226\n",
      "[[6.892913]] x+ [-230.3382]\n"
     ]
    },
    {
     "data": {
      "text/plain": [
       "['C:/Users/MSDL-DESK-02/Desktop/model/model1.pkl']"
      ]
     },
     "execution_count": 75,
     "metadata": {},
     "output_type": "execute_result"
    }
   ],
   "source": [
    "import numpy as np\n",
    "import matplotlib.pyplot as plt\n",
    "import torch\n",
    "import torch.nn as nn\n",
    "import pandas as pd\n",
    "from sklearn.model_selection import train_test_split\n",
    "from sklearn.linear_model import LinearRegression, RANSACRegressor, HuberRegressor\n",
    "from sklearn.metrics import mean_absolute_error\n",
    "\n",
    "df = pd.read_csv(\"C:/Users/MSDL-DESK-02/Desktop/data_arrange/individual_data.csv\")\n",
    "x = df[['area']]\n",
    "y = df[['weight']]\n",
    "x_tensor = torch.FloatTensor(x.values)\n",
    "y_tensor = torch.FloatTensor(y.values)\n",
    "x_train, x_test, y_train, y_test = train_test_split(x_tensor,y_tensor, train_size = 0.8, test_size = 0.2)\n",
    "\n",
    "model1 = LinearRegression()\n",
    "model1.fit(x_train, y_train)\n",
    "\n",
    "y_pred = model1.predict(x_test)\n",
    "print(mean_absolute_error(y_test, y_pred))\n",
    "print(model1.coef_,\"x+\",model1.intercept_)\n",
    "\n",
    "# 모델 저장\n",
    "import joblib\n",
    "joblib.dump(model1, 'C:/Users/MSDL-DESK-02/Desktop/model/model1.pkl')"
   ]
  },
  {
   "cell_type": "markdown",
   "id": "eca5d97d-f3f8-43db-b79a-70db89fbddcb",
   "metadata": {},
   "source": [
    "### 일령, 면적-체중"
   ]
  },
  {
   "cell_type": "code",
   "execution_count": 59,
   "id": "43f0b57f-0254-4a10-b437-f931d6c90c32",
   "metadata": {},
   "outputs": [
    {
     "name": "stdout",
     "output_type": "stream",
     "text": [
      "74.03794\n",
      "[[9.301174 5.701217]] x+ [-241.48041]\n"
     ]
    },
    {
     "data": {
      "text/plain": [
       "['C:/Users/MSDL-DESK-02/Desktop/model/model2.pkl']"
      ]
     },
     "execution_count": 59,
     "metadata": {},
     "output_type": "execute_result"
    }
   ],
   "source": [
    "import numpy as np\n",
    "import matplotlib.pyplot as plt\n",
    "import torch\n",
    "import torch.nn as nn\n",
    "import pandas as pd\n",
    "from sklearn.model_selection import train_test_split\n",
    "from sklearn.linear_model import LinearRegression, RANSACRegressor, HuberRegressor\n",
    "from sklearn.metrics import mean_absolute_error\n",
    "\n",
    "df = pd.read_csv(\"C:/Users/MSDL-DESK-02/Desktop/data_arrange/individual_data.csv\")\n",
    "x = df[['day','area']]\n",
    "y = df[['weight']]\n",
    "x_tensor = torch.FloatTensor(x.values)\n",
    "y_tensor = torch.FloatTensor(y.values)\n",
    "x_train, x_test, y_train, y_test = train_test_split(x_tensor,y_tensor, train_size = 0.8, test_size = 0.2, random_state=12)\n",
    "\n",
    "model1 = LinearRegression()\n",
    "model1.fit(x_train, y_train)\n",
    "\n",
    "y_pred = model1.predict(x_test)\n",
    "print(mean_absolute_error(y_test, y_pred))\n",
    "print(model1.coef_,\"x+\",model1.intercept_)\n",
    "\n",
    "# 모델 저장\n",
    "import joblib\n",
    "joblib.dump(model1, 'C:/Users/MSDL-DESK-02/Desktop/model/model2.pkl')"
   ]
  },
  {
   "cell_type": "markdown",
   "id": "5dfec1c7-fc2e-4f5b-bc3e-b9cc82910459",
   "metadata": {},
   "source": [
    "### 일령, 면적, 둘레 - 체중"
   ]
  },
  {
   "cell_type": "code",
   "execution_count": 60,
   "id": "b55e0977-a1dc-41ff-be16-d693ea06b0bb",
   "metadata": {},
   "outputs": [
    {
     "name": "stdout",
     "output_type": "stream",
     "text": [
      "62.1186\n",
      "[[ 17.948565   7.925911 -14.64024 ]] x+ [46.160583]\n"
     ]
    },
    {
     "data": {
      "text/plain": [
       "['C:/Users/MSDL-DESK-02/Desktop/model/model3.pkl']"
      ]
     },
     "execution_count": 60,
     "metadata": {},
     "output_type": "execute_result"
    }
   ],
   "source": [
    "import numpy as np\n",
    "import matplotlib.pyplot as plt\n",
    "import torch\n",
    "import torch.nn as nn\n",
    "import pandas as pd\n",
    "from sklearn.model_selection import train_test_split\n",
    "from sklearn.linear_model import LinearRegression, RANSACRegressor, HuberRegressor\n",
    "from sklearn.metrics import mean_absolute_error\n",
    "\n",
    "df = pd.read_csv(\"C:/Users/MSDL-DESK-02/Desktop/data_arrange/individual_data.csv\")\n",
    "x = df[['day','area', 'perimeter']]\n",
    "y = df[['weight']]\n",
    "x_tensor = torch.FloatTensor(x.values)\n",
    "y_tensor = torch.FloatTensor(y.values)\n",
    "x_train, x_test, y_train, y_test = train_test_split(x_tensor,y_tensor, train_size = 0.8, test_size = 0.2, random_state=12)\n",
    "\n",
    "model1 = LinearRegression()\n",
    "model1.fit(x_train, y_train)\n",
    "\n",
    "y_pred = model1.predict(x_test)\n",
    "print(mean_absolute_error(y_test, y_pred))\n",
    "print(model1.coef_,\"x+\",model1.intercept_)\n",
    "\n",
    "# 모델 저장\n",
    "import joblib\n",
    "joblib.dump(model1, 'C:/Users/MSDL-DESK-02/Desktop/model/model3.pkl')"
   ]
  },
  {
   "cell_type": "markdown",
   "id": "b33f7a37-2795-4c23-adaa-ca6952a7f2ce",
   "metadata": {},
   "source": [
    "### 일령, 면적, 둘레, 장축 - 체중"
   ]
  },
  {
   "cell_type": "code",
   "execution_count": 61,
   "id": "9f184839-9786-4720-8090-de0829d19fad",
   "metadata": {},
   "outputs": [
    {
     "name": "stdout",
     "output_type": "stream",
     "text": [
      "62.18498\n",
      "[[ 17.625244     7.984613   -15.970179     0.36308396]] x+ [45.499268]\n"
     ]
    },
    {
     "data": {
      "text/plain": [
       "['C:/Users/MSDL-DESK-02/Desktop/model/model4.pkl']"
      ]
     },
     "execution_count": 61,
     "metadata": {},
     "output_type": "execute_result"
    }
   ],
   "source": [
    "import numpy as np\n",
    "import matplotlib.pyplot as plt\n",
    "import torch\n",
    "import torch.nn as nn\n",
    "import pandas as pd\n",
    "from sklearn.model_selection import train_test_split\n",
    "from sklearn.linear_model import LinearRegression, RANSACRegressor, HuberRegressor\n",
    "from sklearn.metrics import mean_absolute_error\n",
    "\n",
    "df = pd.read_csv(\"C:/Users/MSDL-DESK-02/Desktop/data_arrange/individual_data.csv\")\n",
    "x = df[['day','area', 'perimeter', 'major_axis']]\n",
    "y = df[['weight']]\n",
    "x_tensor = torch.FloatTensor(x.values)\n",
    "y_tensor = torch.FloatTensor(y.values)\n",
    "x_train, x_test, y_train, y_test = train_test_split(x_tensor,y_tensor, train_size = 0.8, test_size = 0.2, random_state=12)\n",
    "\n",
    "model1 = LinearRegression()\n",
    "model1.fit(x_train, y_train)\n",
    "\n",
    "y_pred = model1.predict(x_test)\n",
    "print(mean_absolute_error(y_test, y_pred))\n",
    "print(model1.coef_,\"x+\",model1.intercept_)\n",
    "# 모델 저장\n",
    "import joblib\n",
    "joblib.dump(model1, 'C:/Users/MSDL-DESK-02/Desktop/model/model4.pkl')"
   ]
  },
  {
   "cell_type": "code",
   "execution_count": 45,
   "id": "d0936a36-3520-4129-95d9-db58eef26539",
   "metadata": {},
   "outputs": [
    {
     "data": {
      "image/png": "[encoded data removed]",
      "text/plain": [
       "<Figure size 432x288 with 1 Axes>"
      ]
     },
     "metadata": {
      "needs_background": "light"
     },
     "output_type": "display_data"
    }
   ],
   "source": [
    "# 일령 - 체중\n",
    "m = df['area']\n",
    "n= model1.coef_[0][0] * m + model1.intercept_[0]  \n",
    "\n",
    "plt.scatter(x= m, y=df['weight'])\n",
    "plt.plot(m,n, color='red')\n",
    "plt.show()"
   ]
  },
  {
   "cell_type": "markdown",
   "id": "1758331a-3f42-4d65-843f-875de359ff1b",
   "metadata": {},
   "source": [
    "# 방법2. 다중 다항회귀 모델"
   ]
  },
  {
   "cell_type": "code",
   "execution_count": 34,
   "id": "12d0e388-2915-4cd2-b862-34db7ab3e72c",
   "metadata": {},
   "outputs": [
    {
     "name": "stdout",
     "output_type": "stream",
     "text": [
      "정규화된 x_test의 모양은 (576, 4)\n",
      "55.69295590342219\n"
     ]
    },
    {
     "data": {
      "text/plain": [
       "['C:/Users/MSDL-DESK-02/Desktop/model/multivariate_polynomiar_regression_model.pkl']"
      ]
     },
     "execution_count": 34,
     "metadata": {},
     "output_type": "execute_result"
    }
   ],
   "source": [
    "# Import the necessary libraries\n",
    "from sklearn.linear_model import LinearRegression\n",
    "from sklearn.preprocessing import PolynomialFeatures\n",
    "from sklearn.model_selection import train_test_split\n",
    "import torch\n",
    "import numpy as np\n",
    "import pandas as pd\n",
    "import pickle\n",
    "from sklearn.metrics import mean_absolute_error\n",
    "from sklearn.pipeline import make_pipeline   \n",
    "from sklearn.preprocessing import MinMaxScaler\n",
    "\n",
    "df = pd.read_csv(\"C:/Users/MSDL-DESK-02/Desktop/data_arrange/individual_data.csv\")\n",
    "x = df[['day','area', 'perimeter', 'major_axis']]\n",
    "y = df[['weight']]\n",
    "x_tensor = torch.FloatTensor(x.values)\n",
    "y_tensor = torch.FloatTensor(y.values)\n",
    "x_train, x_test, y_train, y_test = train_test_split(x_tensor,y_tensor, train_size = 0.8, test_size = 0.2, random_state=12)\n",
    "\n",
    "# minmax scaling 0~1 사이 범위\n",
    "#scaler1 = MinMaxScaler(feature_range = (0.0,1.0)) # feature 범위를 0~1사이로 변환 \n",
    "#scaler1.fit(x_train)\n",
    "#transformed_x_train = scaler.transform(x_train)\n",
    "\n",
    "#print(x_train.shape)\n",
    "\n",
    "# minmax scaling 0~1 사이 범위\n",
    "#scaler2 = MinMaxScaler(feature_range = (0.0,1.0)) # feature 범위를 0~1사이로 변환 \n",
    "#scaler2.fit(x_test)\n",
    "#transformed_x_test = scaler.transform(x_test)\n",
    "\n",
    "#print(transformed_x_test.shape)\n",
    "\n",
    "# Create polynomial features up to degree 2\n",
    "poly1 = PolynomialFeatures(degree=2, include_bias=True)\n",
    "x_poly1 = poly1.fit_transform(x_train)\n",
    "\n",
    "# Train the model\n",
    "regressor = LinearRegression()\n",
    "regressor.fit(x_poly, y_train)\n",
    "\n",
    "\n",
    "######################################################################################\n",
    "#데이터 변환 과정과 머신러닝을 연결해주는 파이프라인\n",
    "model_lr = make_pipeline(PolynomialFeatures(degree=2, include_bias=True),LinearRegression())\n",
    "\n",
    "# Train the model\n",
    "model_lr.fit(transformed_x_train, y_train)\n",
    "\n",
    "print(\"정규화된 x_test의 모양은\",transformed_x_test.shape)\n",
    "\n",
    "# Test the model\n",
    "y_pred = model_lr.predict(transformed_x_test)\n",
    "print(mean_absolute_error(y_test, y_pred))\n",
    "\n",
    "# 모델 저장\n",
    "import joblib\n",
    "joblib.dump(model_lr, 'C:/Users/MSDL-DESK-02/Desktop/model/multivariate_polynomiar_regression_model.pkl')"
   ]
  },
  {
   "cell_type": "code",
   "execution_count": null,
   "id": "a0d5f363-a59f-4172-985c-55cc6b6209cd",
   "metadata": {},
   "outputs": [],
   "source": []
  }
 ],
 "metadata": {
  "kernelspec": {
   "display_name": "Python 3 (ipykernel)",
   "language": "python",
   "name": "python3"
  },
  "language_info": {
   "codemirror_mode": {
    "name": "ipython",
    "version": 3
   },
   "file_extension": ".py",
   "mimetype": "text/x-python",
   "name": "python",
   "nbconvert_exporter": "python",
   "pygments_lexer": "ipython3",
   "version": "3.8.13"
  }
 },
 "nbformat": 4,
 "nbformat_minor": 5
}
