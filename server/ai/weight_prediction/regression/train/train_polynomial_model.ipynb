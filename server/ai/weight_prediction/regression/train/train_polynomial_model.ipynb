{
 "cells": [
  {
   "cell_type": "code",
   "execution_count": 1,
   "id": "f3614b2f-d55c-44ec-ae4b-8ec5f7da291d",
   "metadata": {
    "tags": []
   },
   "outputs": [],
   "source": [
    "import torch\n",
    "import torch.nn as nn\n",
    "import pandas as pd\n",
    "from sklearn.model_selection import train_test_split\n",
    "import numpy as np\n",
    "import matplotlib.pyplot as plt\n",
    "import seaborn as sns"
   ]
  },
  {
   "cell_type": "code",
   "execution_count": 2,
   "id": "7325e5c7-7b02-4218-80fe-1f1a438b2e5f",
   "metadata": {},
   "outputs": [],
   "source": [
    "# Load the dataset\n",
    "df = pd.read_csv(\"C:/Users/MSDL-DESK-02/Desktop/data_arrange/individual_data.csv\")"
   ]
  },
  {
   "cell_type": "code",
   "execution_count": 3,
   "id": "2ed97d58-0476-487b-96df-9b00051ac4be",
   "metadata": {},
   "outputs": [],
   "source": [
    "# Split the dataset into training and testing sets\n",
    "X_train, X_test, y_train, y_test = train_test_split(\n",
    "    df[['day', 'area', 'perimeter', 'major_axis', 'minor_axis']],\n",
    "    df['weight'],\n",
    "    test_size=0.2,\n",
    "    random_state=42)"
   ]
  },
  {
   "cell_type": "code",
   "execution_count": 4,
   "id": "7f3f0f07-bdb5-4195-9bd3-a6e621315e3f",
   "metadata": {},
   "outputs": [],
   "source": [
    "# Function for plotting independent variables against target variable\n",
    "# fig, a =  plt.subplots(3, figsize = (5, 5*3))\n",
    "def plotter(column_list, target_col, df):\n",
    "    \"\"\"Plots scatterplot for each independent variable against the target variable\n",
    "    \n",
    "    Args-\n",
    "        column_list- List containing names of all the dependent variables\n",
    "        target_col- Name of the target variable\n",
    "        df- The dataframe\n",
    "    Returns-\n",
    "        None\n",
    "    \"\"\"\n",
    "    len_col = len(column_list) #length of list of all the dependent variables\n",
    "    color = ['b', 'g', 'r', 'c', 'm', 'y', 'k'] #list of color values\n",
    "    fig, axes = plt.subplots(len_col, figsize = (6, 6 * len_col)) #Creating a plot with subplots for each independant variable\n",
    "    for col, ax in zip(column_list, axes): #The for loop goes through zipped list of column names and subplot and plots each plot\n",
    "        ax.scatter(df[col], df[target_col], alpha = 0.3, c = np.random.choice(color))\n",
    "        ax.set_xlabel(col)\n",
    "        ax.set_ylabel(target_col)\n",
    "        ax.figure.savefig(\"C:/Users/MSDL-DESK-02/Desktop/fig/col.png\")"
   ]
  },
  {
   "cell_type": "code",
   "execution_count": 5,
   "id": "1e0d54c6-9440-454b-9061-cb74fad57213",
   "metadata": {},
   "outputs": [
    {
     "name": "stdout",
     "output_type": "stream",
     "text": [
      "Shape of features DF- (2876, 1)\n",
      "Shape of target series- (2876,)\n",
      "(2876,)\n"
     ]
    }
   ],
   "source": [
    "df = df[['day', 'area','perimeter', 'major_axis', 'minor_axis','weight']].astype('float64')\n",
    "\n",
    "# selecting the features\n",
    "features = df[['area']]\n",
    "\n",
    "# selecting the target\n",
    "target = df['weight']\n",
    "\n",
    "print(\"Shape of features DF- {}\\nShape of target series- {}\".format(features.shape, target.shape))\n",
    "print(target.shape)"
   ]
  },
  {
   "cell_type": "code",
   "execution_count": 7,
   "id": "ab6e0905-b17b-437c-b15f-326190b4cf75",
   "metadata": {},
   "outputs": [
    {
     "name": "stdout",
     "output_type": "stream",
     "text": [
      "torch.Size([2876, 1])\n",
      "tensor([32.0700], dtype=torch.float64)\n",
      "torch.Size([2876])\n",
      "tensor(42., dtype=torch.float64)\n"
     ]
    }
   ],
   "source": [
    "# features_x1 are features with activation function of the type y = x\n",
    "features_x1 = features[['area' ]].to_numpy() # converting DF to numpy array\n",
    "features_x1 = torch.from_numpy(features_x1) # converting numpy array to a pytorch tensor\n",
    "print(features_x1.size())\n",
    "print(features_x1[0])\n",
    "\n",
    "# features_x2 are features with activation function of the type y = x^2\n",
    "features_y = target.to_numpy() # converting DF to numpy array\n",
    "features_y = torch.from_numpy(features_y) # converting numpy array to a pytorch tensor\n",
    "print(features_y.size())\n",
    "print(features_y[0])"
   ]
  },
  {
   "cell_type": "code",
   "execution_count": 8,
   "id": "8c132763-a2fb-4cf7-a8f7-759e7589e83b",
   "metadata": {},
   "outputs": [
    {
     "name": "stdout",
     "output_type": "stream",
     "text": [
      "tensor([  32.0700, 1028.4849], dtype=torch.float64)\n",
      "torch.Size([2876, 2])\n"
     ]
    }
   ],
   "source": [
    "# convert into y=x form tensor\n",
    "features_x1 = torch.cat((features_x1, features_x1 * features_x1), dim = 1)\n",
    "\n",
    "print(features_x1[0])\n",
    "print(features_x1.size())"
   ]
  },
  {
   "cell_type": "markdown",
   "id": "1aaf7e9f-ea28-4148-a2ce-6404ef5d09b3",
   "metadata": {},
   "source": [
    "### 0~1사이 범위로 정규화"
   ]
  },
  {
   "cell_type": "code",
   "execution_count": 10,
   "id": "95a4b9cc-57e4-42db-896b-99b440e2e81e",
   "metadata": {},
   "outputs": [],
   "source": [
    "# function for normalizing data\n",
    "def minMaxNormalizer(feature_tensor):\n",
    "    \"\"\"Takes the Torch.tensor object containing the features and performs min-max normalization on the Torch.tensor.\n",
    "    The function iterates through each column and performs scaling on them individually.\n",
    "    \n",
    "    Args-\n",
    "        feature_tensor- Tensor containing training features\n",
    "    \n",
    "    Returns-\n",
    "        None\n",
    "    \"\"\"\n",
    "    \n",
    "    total_cols = feature_tensor.size()[1] # total unmber of columns \n",
    "    for i in range(total_cols): # iterating through each column\n",
    "        feature_col = feature_tensor[:, i]\n",
    "        maximum = torch.max(feature_col) # maximum stores max value of the column\n",
    "        minimum = torch.min(feature_col) # minimum stores min value of the column\n",
    "        feature_tensor[:, i] = (feature_tensor[:, i] - minimum) / (maximum - minimum) # min-max scalinng of each element of the column\n",
    "        \n",
    "    return feature_tensor"
   ]
  },
  {
   "cell_type": "code",
   "execution_count": 12,
   "id": "4af64622-003d-4366-8f63-562a52780464",
   "metadata": {},
   "outputs": [
    {
     "name": "stdout",
     "output_type": "stream",
     "text": [
      "torch.Size([2876, 2])\n"
     ]
    }
   ],
   "source": [
    "# # Performing scaling on our feature dataframe\n",
    "polyFeatures = minMaxNormalizer(features_x1)\n",
    "print(polyFeatures.shape)"
   ]
  },
  {
   "cell_type": "code",
   "execution_count": 13,
   "id": "9956e098-3fc1-46c2-8ef2-ef862ad43bf1",
   "metadata": {},
   "outputs": [
    {
     "name": "stdout",
     "output_type": "stream",
     "text": [
      "2\n",
      "tensor([0.6094, 0.2310], requires_grad=True)\n"
     ]
    }
   ],
   "source": [
    "# creating randomized weights\n",
    "weights = torch.rand(polyFeatures.size()[1], requires_grad = True)\n",
    "\n",
    "print(polyFeatures.size()[1])\n",
    "print(weights)"
   ]
  },
  {
   "cell_type": "code",
   "execution_count": 14,
   "id": "7190920b-4a45-4eae-a470-05b207b71640",
   "metadata": {},
   "outputs": [
    {
     "data": {
      "text/plain": [
       "tensor([0.4927], requires_grad=True)"
      ]
     },
     "execution_count": 14,
     "metadata": {},
     "output_type": "execute_result"
    }
   ],
   "source": [
    "# creating randomized bias\n",
    "bias = torch.rand(1, requires_grad = True)\n",
    "bias"
   ]
  },
  {
   "cell_type": "code",
   "execution_count": 15,
   "id": "0c9580a7-024a-4d48-bd9d-cc2ccd80c01b",
   "metadata": {},
   "outputs": [
    {
     "data": {
      "text/plain": [
       "tensor([  42.,   42.,   42.,  ..., 1715., 1715., 1715.], dtype=torch.float64)"
      ]
     },
     "execution_count": 15,
     "metadata": {},
     "output_type": "execute_result"
    }
   ],
   "source": [
    "# Convert target series into first numpy and the into a tensor\n",
    "target = torch.from_numpy(target.to_numpy())\n",
    "target"
   ]
  },
  {
   "cell_type": "markdown",
   "id": "9cc71314-474b-47d1-b40b-fac3e8b9ed1d",
   "metadata": {},
   "source": [
    "## 회귀함수 정의"
   ]
  },
  {
   "cell_type": "code",
   "execution_count": 16,
   "id": "c65ca8a6-bfa1-4878-9472-2a0d5a254a72",
   "metadata": {},
   "outputs": [],
   "source": [
    "# predicts the target values based on weights, features and bias variable\n",
    "def polyRegression(features, weights, bias):\n",
    "    \"\"\"Performs polynomial regression on the features to predict target varaibles\n",
    "    \n",
    "    Args-\n",
    "        features- Tensor containing polynomially-transformed features\n",
    "        weights- tensor containing weights associated with each feature\n",
    "        bias- Tensor containing the bias for the model\n",
    "        \n",
    "    Returns-\n",
    "        y_hat- Predicted values for target variable\n",
    "    \"\"\"\n",
    "    y_hat = (weights.float() @ features.t().float()) + bias.float() # @ denotes matrix multiplication; .t() transposes the tensor matrix\n",
    "    return y_hat\n",
    "\n",
    "# Used .float() method to cast all elements of tensor to floats to avoid any runtime errors"
   ]
  },
  {
   "cell_type": "code",
   "execution_count": 17,
   "id": "f30937ad-3f92-4e3d-9ea0-b21d0da42be0",
   "metadata": {},
   "outputs": [
    {
     "data": {
      "text/plain": [
       "torch.Size([2876])"
      ]
     },
     "execution_count": 17,
     "metadata": {},
     "output_type": "execute_result"
    }
   ],
   "source": [
    "# Calculating predicted values for our feature set\n",
    "predictions = polyRegression(polyFeatures, weights, bias)\n",
    "\n",
    "# Size of the predictions tensor\n",
    "predictions.size()"
   ]
  },
  {
   "cell_type": "markdown",
   "id": "b50e6a30-303f-4173-bbf5-eed3e1a9b6b3",
   "metadata": {},
   "source": [
    "## 손실함수 정의(MSE)"
   ]
  },
  {
   "cell_type": "code",
   "execution_count": 18,
   "id": "56fda840-22bb-4cbb-a60a-b373fc4d972d",
   "metadata": {},
   "outputs": [],
   "source": [
    "def meanSqrError(y, y_hat):\n",
    "    \"\"\"Calculates the total mean squared error for the model.\n",
    "    \n",
    "    Args- \n",
    "        y: Tensor of actual target values\n",
    "        y_hat: Tensor of predicted target values\n",
    "        \n",
    "    Returns-\n",
    "        total mean squared error\n",
    "    \"\"\"\n",
    "    MSE = torch.sum((y - y_hat) ** 2) / torch.numel(y) \n",
    "    return MSE # MSE is a tensor object"
   ]
  },
  {
   "cell_type": "code",
   "execution_count": 19,
   "id": "4a71f3d3-689d-4eb3-ab1e-5beb0fdb7813",
   "metadata": {},
   "outputs": [
    {
     "name": "stdout",
     "output_type": "stream",
     "text": [
      "Total MSE error = 719494.0948233077\n",
      "tensor(719494.0948, dtype=torch.float64, grad_fn=<DivBackward0>)\n"
     ]
    }
   ],
   "source": [
    "# Calculating MSE for our model\n",
    "print(\"Total MSE error = {}\".format(meanSqrError(target, predictions)))\n",
    "\n",
    "# Prints info abour the type of object our MSE function returns\n",
    "print(meanSqrError(target, predictions))"
   ]
  },
  {
   "cell_type": "markdown",
   "id": "431fdb11-a7c1-43f5-98e7-a67eed55b0f4",
   "metadata": {},
   "source": [
    "## 모델 optimize(SGD)"
   ]
  },
  {
   "cell_type": "code",
   "execution_count": 20,
   "id": "8eccbccf-39e6-4a8c-92be-9ba02e55fb7a",
   "metadata": {},
   "outputs": [],
   "source": [
    "def stochGradDes(learning_rate, epochs, target, features, weights, bias):\n",
    "    \"\"\"Performs stochastic gradient descent optimization on the model.\n",
    "    \n",
    "    Args-\n",
    "        learning_rate- Size of the step the function will take during optimization\n",
    "        epochs- No. of iterations the function will run for on the model\n",
    "        target- Tensor containing actual target values\n",
    "        features- Tensor of independent variables\n",
    "        weights- Tensor object containing weights associated with each feature\n",
    "        bias- Tensor containinig model bias\n",
    "    \n",
    "    Returns-\n",
    "        return_dict = {'weights': weights, 'bias': bias, 'MSE_list': MSE_list}\n",
    "        where,\n",
    "            weights- Latest weight calculated (tensor)\n",
    "            bias- Latest bias calculated (tensor)\n",
    "            MSE_list- Tensor object containing list MSE observed in each step    \n",
    "    \"\"\"\n",
    "\n",
    "    MSE_list = torch.empty(0) #initiating an empty tensor\n",
    "    for i in range(epochs):\n",
    "        predictions = polyRegression(features, weights, bias) # Calculates predicted target values\n",
    "        MSE = meanSqrError(target, predictions) # Calculates MSE for actual target and predictions\n",
    "        MSE.backward() # MSE.backward() computes dMSE/dx for every parameter x which has requires_grad=True\n",
    "        with torch.no_grad(): # Tells pytorch not to calculate grads while updating weights and bias values \n",
    "            weights -= weights.grad * learning_rate # weights.grad contains dMSE/d(weights)\n",
    "            bias -= bias.grad * learning_rate # bias.grad contains dMSE/d(bias)\n",
    "            weights.grad.zero_() # Sets weights.grad back to 0\n",
    "            bias.grad.zero_() # Sets bias.grad back to 0\n",
    "        MSE_list = torch.cat((MSE_list, MSE.reshape(1).float()), dim = 0) # Adds the MSE value for the epoch to MSE_list\n",
    "        \n",
    "    return_dict = {'weights': weights, 'bias': bias, 'MSE_list': MSE_list}\n",
    "    return return_dict"
   ]
  },
  {
   "cell_type": "code",
   "execution_count": 21,
   "id": "dcea5b7e-2dc4-440d-829e-922ff7363a1c",
   "metadata": {},
   "outputs": [],
   "source": [
    "# Running the optimizer for our model\n",
    "optimizer = stochGradDes(0.01, 30000, target, polyFeatures, weights, bias)"
   ]
  },
  {
   "cell_type": "code",
   "execution_count": 22,
   "id": "851a831d-5f36-482a-8ca2-1350eabc4ef7",
   "metadata": {},
   "outputs": [
    {
     "data": {
      "text/plain": [
       "tensor([2154.6709,  597.0380], requires_grad=True)"
      ]
     },
     "execution_count": 22,
     "metadata": {},
     "output_type": "execute_result"
    }
   ],
   "source": [
    "optimizer['weights']"
   ]
  },
  {
   "cell_type": "code",
   "execution_count": 23,
   "id": "fdf71dc4-a2fc-4c0f-9a5d-10f8f944e4ef",
   "metadata": {},
   "outputs": [
    {
     "data": {
      "text/plain": [
       "tensor([5.2594], requires_grad=True)"
      ]
     },
     "execution_count": 23,
     "metadata": {},
     "output_type": "execute_result"
    }
   ],
   "source": [
    "optimizer['bias']"
   ]
  },
  {
   "cell_type": "code",
   "execution_count": 24,
   "id": "d8097343-24f8-4a48-a014-5b9d7dbbefc8",
   "metadata": {},
   "outputs": [
    {
     "name": "stdout",
     "output_type": "stream",
     "text": [
      "tensor([25.2671], grad_fn=<AddBackward0>)\n"
     ]
    }
   ],
   "source": [
    "prediction_test = polyRegression(polyFeatures[0], optimizer['weights'], optimizer['bias'])\n",
    "print(prediction_test)"
   ]
  },
  {
   "cell_type": "markdown",
   "id": "f85c91a4-9c79-43b9-aee7-00c8f3794cb2",
   "metadata": {},
   "source": [
    "## 학습된 모델 성능평가"
   ]
  },
  {
   "cell_type": "code",
   "execution_count": 25,
   "id": "3b26e4b9-92af-4943-8230-0eb54ad6a96f",
   "metadata": {},
   "outputs": [],
   "source": [
    "def r2_score(target, prediction):\n",
    "    \"\"\"Calculates the r2 score of the model\n",
    "    \n",
    "    Args-\n",
    "        target- Actual values of the target variable\n",
    "        prediction- Predicted values, calculated using the model\n",
    "        \n",
    "    Returns- \n",
    "        r2- r-squared score of the model\n",
    "    \"\"\"\n",
    "    r2 = 1- torch.sum((target-prediction)**2) / torch.sum((target-target.float().mean())**2)\n",
    "    return r2"
   ]
  },
  {
   "cell_type": "code",
   "execution_count": 26,
   "id": "86b02a9c-9c88-41da-87d7-2765c23a5180",
   "metadata": {},
   "outputs": [
    {
     "name": "stdout",
     "output_type": "stream",
     "text": [
      "r-squared score = 0.9558370510707994\n"
     ]
    }
   ],
   "source": [
    "final_predictions = polyRegression(polyFeatures, optimizer['weights'], optimizer['bias'])\n",
    "\n",
    "print(\"r-squared score = {}\".format(r2_score(target, final_predictions)))"
   ]
  },
  {
   "cell_type": "code",
   "execution_count": 27,
   "id": "ef9a7978-2e86-4b6e-9d09-143962827cdd",
   "metadata": {},
   "outputs": [
    {
     "data": {
      "text/plain": [
       "tensor([0.0089, 0.0203, 0.0153,  ..., 0.6503, 0.6579, 0.6345],\n",
       "       dtype=torch.float64)"
      ]
     },
     "execution_count": 27,
     "metadata": {},
     "output_type": "execute_result"
    }
   ],
   "source": [
    "polyFeatures[:,0]"
   ]
  },
  {
   "cell_type": "code",
   "execution_count": 30,
   "id": "8608828b-e61c-4577-9c2e-64344a68239d",
   "metadata": {},
   "outputs": [
    {
     "data": {
      "image/png": "[encoded data removed]",
      "text/plain": [
       "<Figure size 432x288 with 1 Axes>"
      ]
     },
     "metadata": {
      "needs_background": "light"
     },
     "output_type": "display_data"
    }
   ],
   "source": [
    "# 일령 - 체중\n",
    "m1 = polyFeatures[:,0]\n",
    "n= 5.2594+ 2154.6709*m1 + 597.038*m1*m1 \n",
    "\n",
    "plt.scatter(x= polyFeatures[:,0], y=features_y)\n",
    "plt.plot(m1,n, color='red')\n",
    "plt.savefig(\"C:/Users/MSDL-DESK-02/Desktop/fig/area_weight.png\")\n",
    "plt.show()"
   ]
  },
  {
   "cell_type": "code",
   "execution_count": null,
   "id": "6018bf0b-3136-43b6-a386-5741603405f0",
   "metadata": {},
   "outputs": [],
   "source": []
  }
 ],
 "metadata": {
  "kernelspec": {
   "display_name": "Python 3 (ipykernel)",
   "language": "python",
   "name": "python3"
  },
  "language_info": {
   "codemirror_mode": {
    "name": "ipython",
    "version": 3
   },
   "file_extension": ".py",
   "mimetype": "text/x-python",
   "name": "python",
   "nbconvert_exporter": "python",
   "pygments_lexer": "ipython3",
   "version": "3.8.13"
  }
 },
 "nbformat": 4,
 "nbformat_minor": 5
}
